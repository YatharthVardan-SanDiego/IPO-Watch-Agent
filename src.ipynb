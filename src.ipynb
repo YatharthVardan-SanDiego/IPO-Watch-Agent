{
 "cells": [
  {
   "cell_type": "markdown",
   "id": "c0b32566",
   "metadata": {},
   "source": [
    "### Final Project - IPO Watch Agent\n",
    "#### By - Yatharth Vardan"
   ]
  },
  {
   "cell_type": "markdown",
   "id": "b2ab8a91",
   "metadata": {},
   "source": [
    "## Project Files Overview\n",
    "\n",
    "This project consists of multiple interconnected Python modules that work together to create an intelligent IPO analysis system:\n",
    "\n",
    "### Core Modules\n",
    "\n",
    "**filings.py** - SEC Filing Extraction\n",
    "- Extracts HTML content from SEC submission files\n",
    "- Navigates complex SEC EDGAR file structure\n",
    "- Isolates specific filing types (S-1, 10-Q, 10-K)\n",
    "\n",
    "**retriever.py** - RAG Document Retrieval System  \n",
    "- Manages Chroma vector database\n",
    "- Generates embeddings using Ollama Mistral\n",
    "- Provides semantic search over S-1 documents\n",
    "- Supports metadata filtering for company-specific queries\n",
    "\n",
    "**ipo_score.py** - Multi-Agent Analysis System\n",
    "- Financial Analysis Agent: Evaluates revenue, profitability, growth\n",
    "- Risk Analysis Agent: Identifies and grades risk factors\n",
    "- Business Analysis Agent: Analyzes business model and impact\n",
    "- Final Scoring Agent: Synthesizes analyses into investment recommendation\n",
    "\n",
    "**workflow.py** - Pipeline Orchestrator\n",
    "- Manages end-to-end workflow\n",
    "- Coordinates data acquisition, processing, and analysis\n",
    "- Supports two modes: new companies and existing companies\n",
    "\n",
    "**utils.py** - Helper Functions\n",
    "- Date extraction from natural language using LLM\n",
    "- IPO data fetching from public sources\n",
    "- Various utility functions\n",
    "\n",
    "**extract_s1_sections.py** - S-1 Section Parser\n",
    "- Extracts specific sections from S-1 HTML\n",
    "- Identifies table of contents\n",
    "- Parses structured sections (Business, Risk Factors, Financials, etc.)\n",
    "\n",
    "This notebook demonstrates all these modules working together!\n"
   ]
  },
  {
   "cell_type": "markdown",
   "id": "c281d239",
   "metadata": {},
   "source": [
    "#### Limitations for the project\n",
    "\n",
    "1. For the retriver to understand the content of entire S1 filing , it takes about 30 minutes to ingest new companies in the retriever\n",
    "2. Hence for the purpose of this run the companies data is pre loaded in the retriever. \n",
    "3. The NEWS SENTIMENT ANALYSIS - turned out be a major blocker for implementation, for any API used there was always a limit on the content which did not allow any good sentiment to be performed \n",
    "<b>4. Hence for this project - the analysis of the IPO will be on the basis of S1 filing and the information provided in the file."
   ]
  },
  {
   "cell_type": "markdown",
   "id": "b883c6d0",
   "metadata": {},
   "source": [
    "#### Resources Used \n",
    "1. SuperApp - Built by instabase \n",
    "2. ChatGPT - for coding assistance \n",
    "3. Claude - for dummy data testing.\n",
    "4. Kaggle - for better understanding of the workflow\n",
    "5. LLM Model - \n",
    "    a. Embeddings - Ollama Mistral ( faster and lightweight for embeddings )\n",
    "    b. Query and Reasoning - Ollaba llama2:13b ( Larger model for better reasoning )"
   ]
  },
  {
   "cell_type": "markdown",
   "id": "291d5377",
   "metadata": {},
   "source": [
    "---\n",
    "\n",
    "## 📋 Project Overview\n",
    "\n",
    "This notebook demonstrates the **IPO Watch Agent** - an intelligent multi-agent system that analyzes Initial Public Offerings (IPOs) using:\n",
    "\n",
    "- **SEC S-1 Filings**: Official IPO registration documents\n",
    "- **RAG (Retrieval-Augmented Generation)**: For efficient document retrieval\n",
    "- **Multi-Agent LLM System**: Specialized agents for financial, risk, and business analysis\n",
    "\n",
    "### 🏗️ System Architecture\n",
    "\n",
    "The system consists of several interconnected modules:\n",
    "\n",
    "1. **`filings.py`**: Extracts HTML content from SEC filing documents\n",
    "2. **`retriever.py`**: RAG system for document storage and retrieval using vector embeddings\n",
    "3. **`ipo_score.py`**: Multi-agent system with specialized analysis agents:\n",
    "   - Financial Analysis Agent\n",
    "   - Risk Analysis Agent\n",
    "   - Business Analysis Agent\n",
    "   - Final Scoring Agent\n",
    "4. **`workflow.py`**: Orchestrator that manages the complete pipeline\n",
    "5. **`utils.py`**: Helper functions for date extraction and IPO data fetching\n",
    "\n",
    "### 🔄 Workflow Pipeline\n",
    "\n",
    "**Mode 1: New Companies (flag=True)**\n",
    "```\n",
    "User Query → Date Extraction (LLM Agent) → Get IPO Companies → Download S-1 Filings \n",
    "→ Ingest into RAG → Create Scoring Agents → Multi-Agent Analysis → Investment Score\n",
    "```\n",
    "\n",
    "**Mode 2: Existing Companies (flag=False)**\n",
    "```\n",
    "User Query → Load Pre-ingested Companies → Create Scoring Agents \n",
    "→ Multi-Agent Analysis → Investment Score\n",
    "```\n",
    "\n",
    "---\n"
   ]
  },
  {
   "cell_type": "markdown",
   "id": "6f502921",
   "metadata": {},
   "source": [
    "## 🎯 Step 1: Define User Query\n",
    "\n",
    "The user query is the natural language input that drives the entire system. The query can specify:\n",
    "- Time period (e.g., \"January 2025\")\n",
    "- Type of analysis requested\n",
    "- Specific companies (optional)\n",
    "\n",
    "The **Date Extraction Agent** (in `utils.py`) will parse this query to identify months and years.\n"
   ]
  },
  {
   "cell_type": "markdown",
   "id": "89fdc211",
   "metadata": {},
   "source": []
  },
  {
   "cell_type": "markdown",
   "id": "4bccb9c8",
   "metadata": {},
   "source": [
    "## 📦 Step 2: Import Dependencies\n",
    "\n",
    "### Core Libraries\n",
    "- **LangChain**: Framework for building LLM applications\n",
    "  - `Document`: Document data structure\n",
    "  - `RecursiveCharacterTextSplitter`: Chunks documents for embedding\n",
    "  - `Chroma`: Vector database for storing embeddings\n",
    "  - `RetrievalQA`: Question-answering chain with retrieval\n",
    "  \n",
    "- **Ollama**: Local LLM inference\n",
    "  - `OllamaEmbeddings`: Generate embeddings using Ollama models\n",
    "  - `OllamaLLM`: Run LLM inference locally\n",
    "  \n",
    "- **SentenceTransformers**: Generate sentence embeddings\n"
   ]
  },
  {
   "cell_type": "code",
   "execution_count": 1,
   "id": "50792782",
   "metadata": {},
   "outputs": [],
   "source": [
    "query = \"Provide me some IPOs and your analysis for the month of January 2025\""
   ]
  },
  {
   "cell_type": "markdown",
   "id": "035420c4",
   "metadata": {},
   "source": [
    "### Custom Modules\n",
    "\n",
    "- **`workflow.py`**: Contains the `WorkFlow` class - the main orchestrator\n",
    "  - Manages the complete IPO analysis pipeline\n",
    "  - Handles data acquisition, processing, and analysis\n",
    "  - Coordinates between different agents\n",
    "  \n",
    "- **`retriever.py`**: Contains the `RAGRetriever` class\n",
    "  - Manages vector store for document embeddings\n",
    "  - Provides document retrieval functionality\n",
    "  - Handles ingestion of S-1 filings\n",
    "  - Supports metadata filtering for company-specific queries\n"
   ]
  },
  {
   "cell_type": "code",
   "execution_count": 2,
   "id": "55ed1c9d",
   "metadata": {},
   "outputs": [
    {
     "name": "stderr",
     "output_type": "stream",
     "text": [
      "/Users/yatharthvardan/miniconda3/envs/nlp_env/lib/python3.11/site-packages/tqdm/auto.py:21: TqdmWarning: IProgress not found. Please update jupyter and ipywidgets. See https://ipywidgets.readthedocs.io/en/stable/user_install.html\n",
      "  from .autonotebook import tqdm as notebook_tqdm\n"
     ]
    }
   ],
   "source": [
    "from sentence_transformers import SentenceTransformer\n",
    "from langchain.docstore.document import Document\n",
    "from langchain.text_splitter import RecursiveCharacterTextSplitter\n",
    "from langchain.embeddings import HuggingFaceEmbeddings\n",
    "from langchain_community.vectorstores import Chroma\n",
    "from langchain.chains import RetrievalQA\n",
    "from langchain.llms import HuggingFacePipeline\n",
    "from langchain_community.embeddings import OllamaEmbeddings\n",
    "from langchain_ollama import OllamaLLM"
   ]
  },
  {
   "cell_type": "markdown",
   "id": "fd1d0d8f",
   "metadata": {},
   "source": [
    "## ⚙️ Step 3: Initialize System Components\n",
    "\n",
    "### Initialize Large Language Model\n",
    "\n",
    "We use **Ollama Llama2:13b** for reasoning and analysis tasks:\n",
    "- Larger 13B parameter model for better reasoning capability\n",
    "- Used by all agent functions for analysis\n",
    "- Handles complex tasks like financial analysis, risk assessment, and scoring\n"
   ]
  },
  {
   "cell_type": "code",
   "execution_count": 3,
   "id": "ab5dd486",
   "metadata": {},
   "outputs": [],
   "source": [
    "from workflow import *\n",
    "from retriever import *"
   ]
  },
  {
   "cell_type": "markdown",
   "id": "a9f78c62",
   "metadata": {},
   "source": [
    "### Initialize RAG Retriever\n",
    "\n",
    "The **RAGRetriever** (from `retriever.py`) manages document storage and retrieval:\n",
    "- Uses **Ollama Mistral** for embeddings (faster and lightweight)\n",
    "- Stores embeddings in **Chroma** vector database\n",
    "- Enables semantic search over S-1 filing documents\n",
    "- Supports metadata filtering for company-specific queries\n",
    "\n",
    "**Key Methods**:\n",
    "- `load_vectorstore()`: Load existing vector store from disk\n",
    "- `save_vectorstore()`: Persist vector store to disk\n",
    "- `ingest_s1()`: Process and store S-1 filing text\n",
    "- `query_vectorstore_with_filter()`: Retrieve relevant documents with filters\n"
   ]
  },
  {
   "cell_type": "code",
   "execution_count": 4,
   "id": "21355074",
   "metadata": {},
   "outputs": [],
   "source": [
    "llm = OllamaLLM(model = \"llama2:13b\")"
   ]
  },
  {
   "cell_type": "markdown",
   "id": "fed139b1",
   "metadata": {},
   "source": [
    "### Load Pre-existing Vector Store\n",
    "\n",
    "Load previously ingested S-1 filings from the persistent Chroma database.\n",
    "This allows us to reuse embeddings from previous sessions without re-processing.\n"
   ]
  },
  {
   "cell_type": "code",
   "execution_count": 5,
   "id": "73f4d308",
   "metadata": {},
   "outputs": [
    {
     "name": "stderr",
     "output_type": "stream",
     "text": [
      "/Users/yatharthvardan/Documents/USD/NLP Gen AI Course - AAI-520/FInal Project 2/retriever.py:22: LangChainDeprecationWarning: The class `OllamaEmbeddings` was deprecated in LangChain 0.3.1 and will be removed in 1.0.0. An updated version of the class exists in the :class:`~langchain-ollama package and should be used instead. To use it run `pip install -U :class:`~langchain-ollama` and import as `from :class:`~langchain_ollama import OllamaEmbeddings``.\n",
      "  self.embeddings = OllamaEmbeddings(model=\"llama2:13b\")\n",
      "/Users/yatharthvardan/Documents/USD/NLP Gen AI Course - AAI-520/FInal Project 2/retriever.py:23: LangChainDeprecationWarning: The class `Chroma` was deprecated in LangChain 0.2.9 and will be removed in 1.0. An updated version of the class exists in the :class:`~langchain-chroma package and should be used instead. To use it run `pip install -U :class:`~langchain-chroma` and import as `from :class:`~langchain_chroma import Chroma``.\n",
      "  self.vectorstore = Chroma(\n"
     ]
    }
   ],
   "source": [
    "rag = RAGRetriever()"
   ]
  },
  {
   "cell_type": "markdown",
   "id": "43e55255",
   "metadata": {},
   "source": [
    "### Persist Vector Store to Disk\n",
    "\n",
    "Save the current state of the vector store to ensure data persistence across sessions.\n"
   ]
  },
  {
   "cell_type": "code",
   "execution_count": 6,
   "id": "fe38b54b",
   "metadata": {},
   "outputs": [],
   "source": [
    "rag.load_vectorstore()"
   ]
  },
  {
   "cell_type": "markdown",
   "id": "9a26c95b",
   "metadata": {},
   "source": [
    "### Check Pre-loaded Companies\n",
    "\n",
    "View the list of companies whose S-1 filings are already ingested in the vector store.\n",
    "These companies can be analyzed without downloading and re-processing their filings.\n"
   ]
  },
  {
   "cell_type": "code",
   "execution_count": 7,
   "id": "23c241ed",
   "metadata": {},
   "outputs": [
    {
     "name": "stderr",
     "output_type": "stream",
     "text": [
      "/Users/yatharthvardan/Documents/USD/NLP Gen AI Course - AAI-520/FInal Project 2/retriever.py:72: LangChainDeprecationWarning: Since Chroma 0.4.x the manual persistence method is no longer supported as docs are automatically persisted.\n",
      "  self.vectorstore.persist()\n"
     ]
    }
   ],
   "source": [
    "rag.save_vectorstore()"
   ]
  },
  {
   "cell_type": "markdown",
   "id": "c28599c7",
   "metadata": {},
   "source": [
    "---\n",
    "\n",
    "## 🤖 DEMONSTRATION 1: Analyze Pre-loaded Companies (Mode 2)\n",
    "\n",
    "### Create Workflow Agent - Existing Companies Mode\n",
    "\n",
    "**Parameters**:\n",
    "- `query`: User's natural language request\n",
    "- `rag`: RAG retriever instance with pre-loaded data\n",
    "- `llm`: Language model for analysis\n",
    "- `flag=False`: **Use existing companies** (don't download new filings)\n",
    "\n",
    "**What happens internally** (see `workflow.py`):\n",
    "1. ❌ Skip date extraction, company fetching, and downloading\n",
    "2. ✅ Load companies from `rag.ingested_companies`\n",
    "3. ✅ Create `Ipo_Score` agent for each company\n",
    "4. ✅ Execute multi-agent analysis pipeline\n",
    "\n",
    "This mode is faster because it uses pre-processed data.\n"
   ]
  },
  {
   "cell_type": "code",
   "execution_count": 7,
   "id": "32785ae0",
   "metadata": {},
   "outputs": [
    {
     "data": {
      "text/plain": [
       "[{'company_name': 'Health In Tech, Inc.', 'symbol': ' HIT'},\n",
       " {'company_name': 'Translational Development Acquisition Corp.',\n",
       "  'symbol': ' TDACU'},\n",
       " {'company_name': 'Range Capital Acquisition Corp.', 'symbol': ' RANGU'},\n",
       " {'company_name': 'Mountain Lake Acquisition Corp.', 'symbol': ' MLACU'},\n",
       " {'company_name': 'INFINITY NATURAL RESOURCES, INC.', 'symbol': 'INR'}]"
      ]
     },
     "execution_count": 7,
     "metadata": {},
     "output_type": "execute_result"
    }
   ],
   "source": [
    "rag.ingested_companies"
   ]
  },
  {
   "cell_type": "markdown",
   "id": "e368070d",
   "metadata": {},
   "source": [
    "### Execute Multi-Agent Analysis Pipeline\n",
    "\n",
    "**`Agent.analyse_ipos()`** runs the complete analysis workflow:\n",
    "\n",
    "#### For Each Company:\n",
    "\n",
    "**Step 1: Financial Analysis Agent** (`ipo_score.py` - `analyse_financial_information()`)\n",
    "- Queries RAG for financial data (revenue, losses, projections)\n",
    "- LLM analyzes profitability and growth\n",
    "- Outputs: Profit status, growth reasoning, financial rating (Good/Bad)\n",
    "\n",
    "**Step 2: Risk Analysis Agent** (`ipo_score.py` - `analyse_risks()`)\n",
    "- Queries RAG for risk factors and market concerns\n",
    "- LLM prioritizes and evaluates risks\n",
    "- Outputs: Highest risk, market understanding, risk grade (Good/Bad)\n",
    "\n",
    "**Step 3: Business Analysis Agent** (`ipo_score.py` - `analyse_business_information()`)\n",
    "- Queries RAG for business operations and impact\n",
    "- LLM summarizes business model\n",
    "- Outputs: What company does, impact, success assessment\n",
    "\n",
    "**Step 4: Final Scoring Agent** (`ipo_score.py` - `generate_ipo_score()`)\n",
    "- Synthesizes all three analyses\n",
    "- LLM produces final investment recommendation\n",
    "- Outputs: Final rating (Good/Bad) with explanation\n",
    "\n",
    "**Returns**: List of `{'company_name': ..., 'score_summary': ...}`\n"
   ]
  },
  {
   "cell_type": "code",
   "execution_count": 9,
   "id": "901e4117",
   "metadata": {},
   "outputs": [],
   "source": [
    "Agent = WorkFlow(query,rag,llm,False)"
   ]
  },
  {
   "cell_type": "markdown",
   "id": "6b408e33",
   "metadata": {},
   "source": [
    "### View Analysis Results\n",
    "\n",
    "Display the IPO scores generated by the multi-agent system.\n",
    "Each score includes:\n",
    "- Company name\n",
    "- Investment recommendation (Good/Bad)\n",
    "- Brief explanation from the final scoring agent\n"
   ]
  },
  {
   "cell_type": "code",
   "execution_count": 10,
   "id": "1f98703c",
   "metadata": {},
   "outputs": [
    {
     "name": "stderr",
     "output_type": "stream",
     "text": [
      "/Users/yatharthvardan/Documents/USD/NLP Gen AI Course - AAI-520/FInal Project 2/ipo_score.py:118: LangChainDeprecationWarning: The class `LLMChain` was deprecated in LangChain 0.1.17 and will be removed in 1.0. Use :meth:`~RunnableSequence, e.g., `prompt | llm`` instead.\n",
      "  chain = LLMChain(llm = self.llm, prompt = prompt)\n",
      "/Users/yatharthvardan/Documents/USD/NLP Gen AI Course - AAI-520/FInal Project 2/ipo_score.py:119: LangChainDeprecationWarning: The method `Chain.run` was deprecated in langchain 0.1.0 and will be removed in 1.0. Use :meth:`~invoke` instead.\n",
      "  answer = chain.run({\"risks\": self.risks_summary, \"finance_situation\":self.financial_summary,\"business\":self.business_summary})\n"
     ]
    }
   ],
   "source": [
    "ipo_scores = Agent.analyse_ipos()"
   ]
  },
  {
   "cell_type": "markdown",
   "id": "32e3fc24",
   "metadata": {},
   "source": [
    "### Save Results to File\n",
    "\n",
    "Export the IPO analysis results to `IPO SCORING.txt` for documentation and review.\n"
   ]
  },
  {
   "cell_type": "code",
   "execution_count": 12,
   "id": "12b10f4b",
   "metadata": {},
   "outputs": [
    {
     "data": {
      "text/plain": [
       "[{'company_name': 'Health In Tech, Inc.',\n",
       "  'score_summary': '\\n    Based on the information provided, I would rate this IPO as \"BAD\" to invest in. The lack of any risks, financial information, or business details indicates that the company has not disclosed enough information for investors to make an informed decision. Additionally, the lack of any financials and business details suggests that the company may not be transparent about its operations and financial health, which can be a red flag for potential investors. Therefore, I would advise investors to exercise caution and thoroughly research the company before making any investment decisions.'},\n",
       " {'company_name': 'Translational Development Acquisition Corp.',\n",
       "  'score_summary': '\\nAs an expert scoring agent for IPOs, based on the information provided, I would rate this IPO as \"BAD\" to invest in.\\n\\nThe reason for this rating is that there are no risks, financial situation, or business information provided, which suggests that the company is not providing sufficient information for investors to make an informed decision. Additionally, the lack of any information on the company\\'s risks, financials, and business highlights a lack of transparency, which can be a red flag for potential investors.\\n\\nWithout this essential information, it is difficult to determine the company\\'s financial health, growth prospects, or competitive position, making it a high-risk investment. Therefore, I would advise investors to exercise caution and thoroughly research the company before considering an investment.'},\n",
       " {'company_name': 'Range Capital Acquisition Corp.',\n",
       "  'score_summary': \"\\nSure, I can help you with that! Based on the information provided, here is my assessment of the IPO:\\n\\nRating: GOOD\\n\\nThe company has no risks, a strong financial situation, and a clear business plan. This indicates a stable and well-positioned company, which is a good sign for investors. However, it's important to note that there are no guarantees in the stock market, and investing always carries some level of risk.\\n\\nHere are my reasons for rating this IPO as GOOD:\\n\\n1. No risks: The company has identified no risks, which suggests a stable and well-positioned company.\\n2. Strong financial situation: The company has provided no information on its financial situation, but the lack of any identified risks suggests that the company is financially healthy.\\n3. Clear business plan: The company has provided no information on its business, but the lack of any identified risks and strong financial situation suggest that the company has a clear and well-executed business plan.\\n\\nOverall, based on the information provided, I would rate this IPO as GOOD, with a stable and well-positioned company that is likely to perform well in the long term. However, as with any investment, it's important to do your own research and consider all factors before making a decision.\"},\n",
       " {'company_name': 'Mountain Lake Acquisition Corp.',\n",
       "  'score_summary': \"\\nSure, I can help you with that! Based on the information provided, here is my assessment of the IPO:\\n\\nRating: GOOD\\n\\nHere's a very brief explanation:\\n\\nSince there are no risks, financial or business-related information provided, I cannot assess the IPO as GOOD or BAD. However, since there is no information to suggest any potential issues or red flags, I have rated it as GOOD for investment purposes.\"}]"
      ]
     },
     "execution_count": 12,
     "metadata": {},
     "output_type": "execute_result"
    }
   ],
   "source": [
    "ipo_scores"
   ]
  },
  {
   "cell_type": "code",
   "execution_count": 13,
   "id": "f6a7de87",
   "metadata": {},
   "outputs": [],
   "source": [
    "f = open(\"IPO SCORING.txt\",'w')\n",
    "for score in ipo_scores:\n",
    "    f.write(score['company_name'])\n",
    "    f.write('---'*10)\n",
    "    f.write(score['score_summary'])"
   ]
  },
  {
   "cell_type": "markdown",
   "id": "2ded2010",
   "metadata": {},
   "source": [
    "---\n",
    "\n",
    "## 🔄 DEMONSTRATION 2: Download and Analyze New Companies (Mode 1)\n",
    "\n",
    "### Create Workflow Agent - New Companies Mode\n",
    "\n",
    "**Parameters**:\n",
    "- `query`: Same user query\n",
    "- `rag`: RAG retriever instance\n",
    "- `llm`: Language model for analysis\n",
    "- `flag=True`: **Download and process NEW companies**\n",
    "\n",
    "**Complete Pipeline** (see `workflow.py`):\n",
    "\n",
    "#### Phase 1: Data Acquisition\n",
    "1. **Date Extraction Agent** (`extract_date()`)\n",
    "   - Uses LLM to parse \"January 2025\" from query\n",
    "   - Extracts: `{'months': [1], 'years': [2025]}`\n",
    "\n",
    "2. **Get Companies** (`get_companies_information()`)\n",
    "   - Calls `utils.py` - `get_ipos_month_year()`\n",
    "   - Fetches companies that filed IPOs in specified period\n",
    "   - Returns company list with names, symbols, dates\n",
    "\n",
    "3. **Download S-1 Filings** (`download_s1_filings()`)\n",
    "   - Uses `sec_edgar_downloader` library\n",
    "   - Downloads S-1 filings from SEC EDGAR database\n",
    "   - Stores in `sec-edgar-filings/{symbol}/S-1/`\n",
    "   - Handles failures gracefully\n",
    "\n",
    "#### Phase 2: Data Processing\n",
    "4. **Extract & Ingest** (`ingest_s1_files_in_retriever()`)\n",
    "   - Uses `filings.py` to extract HTML from submission files\n",
    "   - Converts HTML to plain text\n",
    "   - Chunks text using `RecursiveCharacterTextSplitter`\n",
    "   - Generates embeddings and stores in Chroma vector database\n",
    "   - **⚠️ Note**: Takes ~30 minutes per company\n",
    "\n",
    "#### Phase 3: Analysis\n",
    "5. **Create Agent Objects** (`generate_ipo_objects()`)\n",
    "   - Instantiates `Ipo_Score` agent for each company\n",
    "\n",
    "6. **Execute Multi-Agent Analysis** (`generate_ipo_scores()`)\n",
    "   - Runs all 4 analysis agents (Financial, Risk, Business, Scoring)\n",
    "\n",
    "**This mode demonstrates the complete end-to-end pipeline!**\n"
   ]
  },
  {
   "cell_type": "code",
   "execution_count": 14,
   "id": "73e258aa",
   "metadata": {},
   "outputs": [],
   "source": [
    "f.close()"
   ]
  },
  {
   "cell_type": "markdown",
   "id": "0ad38279",
   "metadata": {},
   "source": [
    "### Execute Complete Pipeline with New Companies\n",
    "\n",
    "**⚠️ WARNING**: This will:\n",
    "- Download ~70 S-1 filings from SEC EDGAR (takes several minutes)\n",
    "- Process and ingest first company's filing (takes ~30 minutes)\n",
    "- Run multi-agent analysis\n",
    "\n",
    "**Expected Output**:\n",
    "- Download logs for each company\n",
    "- Ingestion progress\n",
    "- Final IPO scores with investment recommendations\n",
    "\n",
    "The output below shows the download process in action!\n"
   ]
  },
  {
   "cell_type": "code",
   "execution_count": 10,
   "id": "ba1eee37",
   "metadata": {},
   "outputs": [],
   "source": [
    "Agent2 = WorkFlow(query, rag, llm, True)"
   ]
  },
  {
   "cell_type": "markdown",
   "id": "7b8c5a83",
   "metadata": {},
   "source": [
    "### Persist Newly Ingested Data\n",
    "\n",
    "Save the vector store with newly added companies.\n",
    "This ensures the downloaded and processed data is available for future sessions.\n"
   ]
  },
  {
   "cell_type": "code",
   "execution_count": null,
   "id": "c12c1176",
   "metadata": {},
   "outputs": [],
   "source": [
    "ipo_Scores_New = Agent2.analyse_ipos()"
   ]
  },
  {
   "cell_type": "markdown",
   "id": "f78ece04",
   "metadata": {},
   "source": [
    "---\n",
    "\n",
    "## 🎭 DEMONSTRATION 3: Analyze ALL Companies (Including Newly Added)\n",
    "\n",
    "### Create Agent for Complete Analysis\n",
    "\n",
    "Now that we've added new companies to the vector store, we can analyze **ALL companies** (both pre-existing and newly added) using `flag=False`.\n",
    "\n",
    "For quick run , i have added the feature to only work with one more new company , as it takes 30min to 1hour to ingest one single S1 filing.\n",
    "\n",
    "**This demonstrates**:\n",
    "- The persistence of the vector store\n",
    "- Ability to query across all ingested companies\n",
    "- Scalability of the multi-agent system\n"
   ]
  },
  {
   "cell_type": "code",
   "execution_count": 12,
   "id": "6e7e0a21",
   "metadata": {},
   "outputs": [
    {
     "name": "stderr",
     "output_type": "stream",
     "text": [
      "/Users/yatharthvardan/Documents/USD/NLP Gen AI Course - AAI-520/FInal Project 2/retriever.py:72: LangChainDeprecationWarning: Since Chroma 0.4.x the manual persistence method is no longer supported as docs are automatically persisted.\n",
      "  self.vectorstore.persist()\n"
     ]
    }
   ],
   "source": [
    "rag.save_vectorstore()"
   ]
  },
  {
   "cell_type": "code",
   "execution_count": 8,
   "id": "4b265951",
   "metadata": {},
   "outputs": [],
   "source": [
    "Agent3 = WorkFlow(query,rag,llm,False)"
   ]
  },
  {
   "cell_type": "markdown",
   "id": "9d447923",
   "metadata": {},
   "source": [
    "### View Complete Results\n",
    "\n",
    "Display investment recommendations for all analyzed companies.\n",
    "This represents the output of the complete multi-agent IPO analysis system!\n"
   ]
  },
  {
   "cell_type": "code",
   "execution_count": 10,
   "id": "154b3ab6",
   "metadata": {},
   "outputs": [],
   "source": [
    "ipos= Agent3.analyse_ipos()"
   ]
  },
  {
   "cell_type": "markdown",
   "id": "e81b3b2a",
   "metadata": {},
   "source": [
    "### Export Final Results\n",
    "\n",
    "Save comprehensive IPO analysis results to `IPO SCORING 2.txt`.\n",
    "This file contains investment recommendations for all companies analyzed in this session.\n"
   ]
  },
  {
   "cell_type": "code",
   "execution_count": 11,
   "id": "caa648f1",
   "metadata": {},
   "outputs": [
    {
     "data": {
      "text/plain": [
       "[{'company_name': 'Health In Tech, Inc.',\n",
       "  'score_summary': '\\n Based on the provided information, I would rate the IPO as \"GOOD\" for investment. Here\\'s a brief explanation of my reasoning:\\n\\n Financials: The company has a strong track record of profitability, with a net income of $1,481,254 in the two and five months ended May 31, 2023. Its commitment to investing in technology and innovation positions it well for future growth. However, the company does face risks related to the complexity and fragmentation of the healthcare insurance market, as well as the potential for reputational harm due to negative publicity or cyber-attacks. Overall, I believe that the company\\'s financials are strong and that it has significant growth potential in the future.\\n\\n Risks: While there are several risks facing the company, such as its reliance on insurance carriers and the potential for reputational harm, the company has a strong understanding of the complexities of the healthcare insurance market and has developed technology platforms that streamline and simplify the offering, underwriting, and closing processes for self-funded benefits plans and stop loss insurance programs. Additionally, the company has made significant investments to further market, develop, and expand its business, including by continuing to develop its technology platforms, acquiring more members, maintaining existing members, and investing in partnerships, collaborations, and acquisitions.\\n\\n Business: HIT offers a unique value proposition by providing self-funded benefits plans and stop loss insurance to small businesses through a digital platform that integrates the complex aspects of the healthcare insurance market. The company\\'s technology platforms automate, digitalize, and simplify the process for brokers, TPAs, and other third-party agents to quote, bind, and issue medical stop loss insurance policies. HIT has experienced significant growth in its network of brokers, TPAs, and other third-party agents, which is critical to its success.\\n\\n Overall, I believe that the company\\'s strong financials, understanding of the healthcare insurance market, and commitment to investing in technology and innovation make it a good investment opportunity. However, it is important to note that there are risks facing the company, such as its reliance on insurance carriers and the potential for reputational harm, and these should be carefully considered before making any investment decisions.'},\n",
       " {'company_name': 'Translational Development Acquisition Corp.',\n",
       "  'score_summary': '             Based on the provided information, I would rate the IPO as \"Bad\" for investment. The risks associated with the company\\'s dependence on the development and commercialization of its cancer drugs, particularly ON01910, are high, and there is a devastating risk of failure in these trials or in the market. Additionally, the company is subject to changing laws and regulations that may increase both its costs and the risk of non-compliance. Furthermore, the company has not yet generated any revenue or profits and faces significant risks and uncertainties in identifying and consummating a business combination, which could potentially result in a loss of investment for its shareholders.\\n\\nThe financial position of the company is also rated as \"Bad\" due to the fact that it has not yet generated any revenue or profits and has only raised capital through an IPO. The company\\'s search for a business combination may also be materially adversely affected by current global geopolitical conditions, which could further negatively impact its financial position.\\n\\nOverall, the high risks associated with the company\\'s dependence on cancer drug development and the uncertainty of its ability to identify and consummate a successful business combination make it a poor investment choice. Therefore, I would rate the IPO as \"Bad\".'},\n",
       " {'company_name': 'Range Capital Acquisition Corp.',\n",
       "  'score_summary': \"   Based on the provided information, I would rate this IPO as 'Bad' for investment. Here's a brief explanation:\\n\\nThe company is a SPAC, which typically carries more risk than traditional IPOs due to the uncertainty of the target acquisition and the potential for dilution. Additionally, the company may face risks related to technology acquisitions, liquidity challenges due to the current global situation, and competition for deals in out-of-favor markets.\\n\\nFurthermore, the company's financial information is not provided, which makes it difficult to assess its current financial health or growth potential. The risk grade for the company is 'Bad', indicating that it may face additional and distinctive risks if it acquires a business in certain industries, such as technology, which could be detrimental to the company and the business it acquires.\\n\\nOverall, based on the information provided, this IPO appears to have a higher level of risk and uncertainty compared to other investment opportunities, and therefore would not be considered a good investment.\"},\n",
       " {'company_name': 'Mountain Lake Acquisition Corp.',\n",
       "  'score_summary': \"   Based on the provided information, I would rate the upcoming IPO as 'Good' for investment.\\n\\nThe company has a stable free cash flow, prudent debt, and financial visibility, indicating a strong financial position. Additionally, the company has a proven track record of creating significant value for its stockholders through operational expertise, investments in private equity firms, venture funds, and asset management firms in over 200 companies. The company's impact has been successful in terms of growth, expansion, awards, and scale.\\n\\nHowever, the company is subject to adverse United States federal income tax consequences as a passive foreign investment company (PFIC), which is a 'Bad' risk. Nevertheless, the other risks are 'Good' risks, indicating that the IPO is generally a good investment opportunity.\"},\n",
       " {'company_name': 'INFINITY NATURAL RESOURCES, INC.',\n",
       "  'score_summary': '  Based on the provided information, I would rate the Infinity Natural Resources, Inc. (INR) IPO as \"Bad\" for investment. Here\\'s a brief explanation of my rating:\\n\\n1. Risks: The company faces significant risks, including reliance on a limited number of customers, market conditions impacting its ability to achieve financial and operational metrics, and potential disruptions due to armed conflict, political instability, or civil unrest in oil and gas producing regions. These risks increase the likelihood of non-payment or payment delays from customers and disruptions to operations, which could negatively impact the company\\'s financial performance.\\n2. Financials: The company has experienced a decline in revenue and had a net loss, indicating a negative financial position. This suggests that the company may not have sufficient resources to invest in its business or meet its financial obligations, which could further exacerbate its risks.\\n3. Business: The company\\'s hedging strategy and results, competition, and government regulations could all have a material adverse effect on its business, financial condition, results of operations, and cash flows. Additionally, negative public perception towards the oil and gas industry may limit its access to capital funding, damage its reputation, and adversely impact its business.\\n\\nOverall, based on these factors, I would rate the INR IPO as \"Bad\" for investment due to the high risks and negative financial position faced by the company.'}]"
      ]
     },
     "execution_count": 11,
     "metadata": {},
     "output_type": "execute_result"
    }
   ],
   "source": [
    "ipos"
   ]
  },
  {
   "cell_type": "code",
   "execution_count": 13,
   "id": "18245189",
   "metadata": {},
   "outputs": [],
   "source": [
    "f = open(\"IPO SCORING 2.txt\",'w')\n",
    "for score in ipos:\n",
    "    f.write(score['company_name'])\n",
    "    f.write('---'*10)\n",
    "    f.write('\\n')\n",
    "    f.write(score['score_summary'])\n",
    "    f.write('\\n\\n')"
   ]
  },
  {
   "cell_type": "code",
   "execution_count": 14,
   "id": "941e5a3f",
   "metadata": {},
   "outputs": [],
   "source": [
    "f.close()"
   ]
  },
  {
   "cell_type": "markdown",
   "id": "a10354ff",
   "metadata": {},
   "source": [
    "## Summary of Demonstrations\n",
    "\n",
    "### What We Demonstrated\n",
    "\n",
    "1. Demonstration 1: Analyzed pre-loaded companies using existing vector store data\n",
    "2. Demonstration 2: Complete end-to-end pipeline with new companies  \n",
    "3. Demonstration 3: Analyzed all companies (old and new)\n",
    "\n",
    "### Multi-Agent System Components\n",
    "\n",
    "Four Specialized Agents in ipo_score.py:\n",
    "- Financial Analysis Agent: Evaluates profitability and growth\n",
    "- Risk Analysis Agent: Identifies and prioritizes risks\n",
    "- Business Analysis Agent: Analyzes business model\n",
    "- Final Scoring Agent: Produces investment recommendation\n",
    "\n",
    "### Key Technologies\n",
    "\n",
    "- LLM: Ollama Llama2:13b for reasoning and Mistral for embeddings\n",
    "- Vector DB: Chroma for document storage and retrieval\n",
    "- Framework: LangChain for RAG pipeline\n",
    "- Data Source: SEC EDGAR S-1 filings\n",
    "\n"
   ]
  }
 ],
 "metadata": {
  "kernelspec": {
   "display_name": "Python (nlp_env)",
   "language": "python",
   "name": "nlp_env"
  },
  "language_info": {
   "codemirror_mode": {
    "name": "ipython",
    "version": 3
   },
   "file_extension": ".py",
   "mimetype": "text/x-python",
   "name": "python",
   "nbconvert_exporter": "python",
   "pygments_lexer": "ipython3",
   "version": "3.11.5"
  }
 },
 "nbformat": 4,
 "nbformat_minor": 5
}
